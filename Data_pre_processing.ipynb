{
  "nbformat": 4,
  "nbformat_minor": 0,
  "metadata": {
    "colab": {
      "name": "Data pre-processing.ipynb",
      "provenance": [],
      "collapsed_sections": [],
      "authorship_tag": "ABX9TyNuOY5Vs5rznHGbkbl/Jsit",
      "include_colab_link": true
    },
    "kernelspec": {
      "name": "python3",
      "display_name": "Python 3"
    },
    "language_info": {
      "name": "python"
    }
  },
  "cells": [
    {
      "cell_type": "markdown",
      "metadata": {
        "id": "view-in-github",
        "colab_type": "text"
      },
      "source": [
        "<a href=\"https://colab.research.google.com/github/omarsayed7/Satellite-Segmentation/blob/main/Data_pre_processing.ipynb\" target=\"_parent\"><img src=\"https://colab.research.google.com/assets/colab-badge.svg\" alt=\"Open In Colab\"/></a>"
      ]
    },
    {
      "cell_type": "code",
      "execution_count": 1,
      "metadata": {
        "id": "k5lYDxhJVvHZ",
        "colab": {
          "base_uri": "https://localhost:8080/"
        },
        "outputId": "f4cae016-5524-4e2a-8673-8a3f57d65c3b"
      },
      "outputs": [
        {
          "output_type": "stream",
          "name": "stdout",
          "text": [
            "Requirement already satisfied: rasterio in /usr/local/lib/python3.7/dist-packages (1.2.10)\n",
            "Requirement already satisfied: click-plugins in /usr/local/lib/python3.7/dist-packages (from rasterio) (1.1.1)\n",
            "Requirement already satisfied: attrs in /usr/local/lib/python3.7/dist-packages (from rasterio) (21.2.0)\n",
            "Requirement already satisfied: affine in /usr/local/lib/python3.7/dist-packages (from rasterio) (2.3.0)\n",
            "Requirement already satisfied: certifi in /usr/local/lib/python3.7/dist-packages (from rasterio) (2021.10.8)\n",
            "Requirement already satisfied: numpy in /usr/local/lib/python3.7/dist-packages (from rasterio) (1.19.5)\n",
            "Requirement already satisfied: click>=4.0 in /usr/local/lib/python3.7/dist-packages (from rasterio) (7.1.2)\n",
            "Requirement already satisfied: snuggs>=1.4.1 in /usr/local/lib/python3.7/dist-packages (from rasterio) (1.4.7)\n",
            "Requirement already satisfied: setuptools in /usr/local/lib/python3.7/dist-packages (from rasterio) (57.4.0)\n",
            "Requirement already satisfied: cligj>=0.5 in /usr/local/lib/python3.7/dist-packages (from rasterio) (0.7.2)\n",
            "Requirement already satisfied: pyparsing>=2.1.6 in /usr/local/lib/python3.7/dist-packages (from snuggs>=1.4.1->rasterio) (3.0.6)\n",
            "/bin/bash: paddleseg: command not found\n",
            "Requirement already satisfied: pyshp in /usr/local/lib/python3.7/dist-packages (2.1.3)\n",
            "Drive already mounted at /content/drive/; to attempt to forcibly remount, call drive.mount(\"/content/drive/\", force_remount=True).\n"
          ]
        }
      ],
      "source": [
        "!pip install rasterio && GDAL==3.2.2 && paddleseg && paddlepaddle\n",
        "!pip install pyshp\n",
        "#mount google drive\n",
        "from google.colab import drive \n",
        "drive.mount(\"/content/drive/\")"
      ]
    },
    {
      "cell_type": "code",
      "source": [
        "import math\n",
        "import os, sys, subprocess\n",
        "import numpy as np \n",
        "from osgeo import gdal, ogr\n",
        "import matplotlib.pyplot as plt"
      ],
      "metadata": {
        "id": "h47KhkY81ElG"
      },
      "execution_count": 2,
      "outputs": []
    },
    {
      "cell_type": "code",
      "source": [
        " OLD_DATASET_PATH = 'drive/MyDrive/graduation-project/output 2019'\n",
        " NEW_DATASET_PATH = 'drive/MyDrive/graduation-project/output'\n",
        " OUTPUT = 'lab_all_values.tif'"
      ],
      "metadata": {
        "id": "HP1CT5OEbvhF"
      },
      "execution_count": 3,
      "outputs": []
    },
    {
      "cell_type": "code",
      "source": [
        "os.listdir(NEW_DATASET_PATH)"
      ],
      "metadata": {
        "colab": {
          "base_uri": "https://localhost:8080/"
        },
        "id": "xizDV1eA3wj_",
        "outputId": "0e335617-6e7d-4e56-8e66-ce5515c553a8"
      },
      "execution_count": 4,
      "outputs": [
        {
          "output_type": "execute_result",
          "data": {
            "text/plain": [
              "['output2021.tfw',\n",
              " 'output2021.tif',\n",
              " 'output2021.tif.ovr',\n",
              " 'output2021.tif.aux.xml',\n",
              " 'Export_Output.prj',\n",
              " 'Export_Output.dbf',\n",
              " 'Export_Output.sbn',\n",
              " 'Export_Output.sbx',\n",
              " 'Export_Output.shx',\n",
              " 'Export_Output.cpg',\n",
              " 'Export_Output.shp',\n",
              " 'Export_Output.shp.DESKTOP-164F5K8.9080.19096.sr.lock']"
            ]
          },
          "metadata": {},
          "execution_count": 4
        }
      ]
    },
    {
      "cell_type": "code",
      "source": [
        "fn_ras = os.path.join(NEW_DATASET_PATH,'output2021.tif')\n",
        "fn_vec = os.path.join(NEW_DATASET_PATH,'Export_Output.shp')"
      ],
      "metadata": {
        "id": "PS51Q79N1AUn"
      },
      "execution_count": 5,
      "outputs": []
    },
    {
      "cell_type": "code",
      "source": [
        "driver = ogr.GetDriverByName(\"ESRI Shapefile\")\n",
        "ras_ds = gdal.Open(fn_ras)\n",
        "vec_ds = driver.Open(fn_vec, 1)"
      ],
      "metadata": {
        "id": "CnN5c-NL1dYS"
      },
      "execution_count": 6,
      "outputs": []
    },
    {
      "cell_type": "code",
      "source": [
        "import shapefile as shp  # Requires the pyshp package\n",
        "import matplotlib.pyplot as plt\n",
        "import rasterio\n",
        "from rasterio.plot import show \n",
        "\n",
        "dsm = rasterio.open(fn_ras)\n",
        "sf = shp.Reader(fn_vec)\n",
        "\n",
        "plt.figure()\n",
        "for shape in sf.shapeRecords():\n",
        "    x = [i[0] for i in shape.shape.points[:]]\n",
        "    y = [i[1] for i in shape.shape.points[:]]\n",
        "    plt.plot(x,y)\n",
        "show(dsm, title='Digital Surface Model', cmap='gist_ncar')\n",
        "plt.show()"
      ],
      "metadata": {
        "colab": {
          "base_uri": "https://localhost:8080/",
          "height": 281
        },
        "id": "Bfctr42h6h2i",
        "outputId": "c8ff9453-9074-4ba8-ac77-a38f21bdec7d"
      },
      "execution_count": 7,
      "outputs": [
        {
          "output_type": "display_data",
          "data": {
            "image/png": "[encoded data removed]",
            "text/plain": [
              "<Figure size 432x288 with 1 Axes>"
            ]
          },
          "metadata": {
            "needs_background": "light"
          }
        }
      ]
    },
    {
      "cell_type": "code",
      "source": [
        "lyr = vec_ds.GetLayer()\n",
        "geot = ras_ds.GetGeoTransform()\n",
        "proj = ras_ds.GetProjection() # Get the projection from original tiff (fn_ras)"
      ],
      "metadata": {
        "id": "uTX9brsw4IXG"
      },
      "execution_count": 8,
      "outputs": []
    },
    {
      "cell_type": "code",
      "source": [
        "#To get the coordinates of the corners of your geotiff do the following:\n",
        "width = ras_ds.RasterXSize\n",
        "height = ras_ds.RasterYSize\n",
        "\n",
        "minx = geot[0] #lower left x\n",
        "miny = geot[3] + width*geot[4] + height*geot[5] #lower left y\n",
        "maxx = geot[0] + width*geot[1] + height*geot[2] #upper right x\n",
        "maxy = geot[3] #upper right y\n",
        "\n",
        "minx, miny, maxx, maxy"
      ],
      "metadata": {
        "colab": {
          "base_uri": "https://localhost:8080/"
        },
        "id": "LalCkoRr7gqE",
        "outputId": "c38cd7ea-d659-453d-a006-54e8357d96cf"
      },
      "execution_count": 9,
      "outputs": [
        {
          "output_type": "execute_result",
          "data": {
            "text/plain": [
              "(300000.0, 3290220.0, 409800.0, 3400020.0)"
            ]
          },
          "metadata": {},
          "execution_count": 9
        }
      ]
    },
    {
      "cell_type": "code",
      "source": [
        "#https://stackoverflow.com/questions/50191648/gis-geotiff-gdal-python-how-to-get-coordinates-from-pixel\n",
        "import osr\n",
        "# get CRS from dataset \n",
        "crs = osr.SpatialReference()\n",
        "crs.ImportFromWkt(ras_ds.GetProjectionRef())\n",
        "# create lat/long crs with WGS84 datum\n",
        "crsGeo = osr.SpatialReference()\n",
        "crsGeo.ImportFromEPSG(4326) # 4326 is the EPSG id of lat/long crs \n",
        "t = osr.CoordinateTransformation(crs, crsGeo)\n",
        "(lat, long, z) = t.TransformPoint(minx, miny)\n",
        "(lat2, long2, z2) = t.TransformPoint(maxx, maxy)\n",
        "print(lat, long, z)\n",
        "print(lat2, long2, z2)"
      ],
      "metadata": {
        "colab": {
          "base_uri": "https://localhost:8080/"
        },
        "id": "AlO57IVzR7AY",
        "outputId": "2af05062-d912-4d56-83cc-7decf0eca151"
      },
      "execution_count": 10,
      "outputs": [
        {
          "output_type": "stream",
          "name": "stdout",
          "text": [
            "30.932223205884945 29.72604902556356 0.0\n",
            "32.057829637596484 30.729650251360194 0.0\n"
          ]
        }
      ]
    },
    {
      "cell_type": "code",
      "source": [
        "!gdalinfo /content/drive/MyDrive/graduation-project/output/output2021.tif"
      ],
      "metadata": {
        "colab": {
          "base_uri": "https://localhost:8080/"
        },
        "id": "ZmdV3d2IIp1t",
        "outputId": "0a64dd9c-aa01-4921-c7f2-8a63d8a8478b"
      },
      "execution_count": 11,
      "outputs": [
        {
          "output_type": "stream",
          "name": "stdout",
          "text": [
            "Driver: GTiff/GeoTIFF\n",
            "Warning 1: TIFFReadDirectory:Sum of Photometric type-related color channels and ExtraSamples doesn't match SamplesPerPixel. Defining non-color channels as ExtraSamples.\n",
            "Warning 1: TIFFReadDirectory:Sum of Photometric type-related color channels and ExtraSamples doesn't match SamplesPerPixel. Defining non-color channels as ExtraSamples.\n",
            "Warning 1: TIFFReadDirectory:Sum of Photometric type-related color channels and ExtraSamples doesn't match SamplesPerPixel. Defining non-color channels as ExtraSamples.\n",
            "Warning 1: TIFFReadDirectory:Sum of Photometric type-related color channels and ExtraSamples doesn't match SamplesPerPixel. Defining non-color channels as ExtraSamples.\n",
            "Warning 1: TIFFReadDirectory:Sum of Photometric type-related color channels and ExtraSamples doesn't match SamplesPerPixel. Defining non-color channels as ExtraSamples.\n",
            "Warning 1: TIFFReadDirectory:Sum of Photometric type-related color channels and ExtraSamples doesn't match SamplesPerPixel. Defining non-color channels as ExtraSamples.\n",
            "Files: /content/drive/MyDrive/graduation-project/output/output2021.tif\n",
            "       /content/drive/MyDrive/graduation-project/output/output2021.tif.ovr\n",
            "       /content/drive/MyDrive/graduation-project/output/output2021.tif.aux.xml\n",
            "Size is 5490, 5490\n",
            "Coordinate System is:\n",
            "PROJCS[\"WGS_1984_UTM_Zone_36N\",\n",
            "    GEOGCS[\"WGS 84\",\n",
            "        DATUM[\"WGS_1984\",\n",
            "            SPHEROID[\"WGS 84\",6378137,298.257223563,\n",
            "                AUTHORITY[\"EPSG\",\"7030\"]],\n",
            "            AUTHORITY[\"EPSG\",\"6326\"]],\n",
            "        PRIMEM[\"Greenwich\",0],\n",
            "        UNIT[\"degree\",0.0174532925199433],\n",
            "        AUTHORITY[\"EPSG\",\"4326\"]],\n",
            "    PROJECTION[\"Transverse_Mercator\"],\n",
            "    PARAMETER[\"latitude_of_origin\",0],\n",
            "    PARAMETER[\"central_meridian\",33],\n",
            "    PARAMETER[\"scale_factor\",0.9996],\n",
            "    PARAMETER[\"false_easting\",500000],\n",
            "    PARAMETER[\"false_northing\",0],\n",
            "    UNIT[\"metre\",1,\n",
            "        AUTHORITY[\"EPSG\",\"9001\"]],\n",
            "    AUTHORITY[\"EPSG\",\"32636\"]]\n",
            "Origin = (300000.000000000000000,3400020.000000000000000)\n",
            "Pixel Size = (20.000000000000000,-20.000000000000000)\n",
            "Metadata:\n",
            "  AREA_OR_POINT=Area\n",
            "Image Structure Metadata:\n",
            "  INTERLEAVE=PIXEL\n",
            "Corner Coordinates:\n",
            "Upper Left  (  300000.000, 3400020.000) ( 30d54'41.03\"E, 30d42'58.55\"N)\n",
            "Lower Left  (  300000.000, 3290220.000) ( 30d55'56.00\"E, 29d43'33.78\"N)\n",
            "Upper Right (  409800.000, 3400020.000) ( 32d 3'28.19\"E, 30d43'46.74\"N)\n",
            "Lower Right (  409800.000, 3290220.000) ( 32d 4' 2.03\"E, 29d44'20.10\"N)\n",
            "Center      (  354900.000, 3345120.000) ( 31d29'31.81\"E, 30d13'44.33\"N)\n",
            "Band 1 Block=128x128 Type=UInt32, ColorInterp=Gray\n",
            "  Min=0.000 Max=9948.000 \n",
            "  Minimum=0.000, Maximum=9948.000, Mean=1579.942, StdDev=437.901\n",
            "  NoData Value=65536\n",
            "  Overviews: 2745x2745, 1373x1373, 687x687, 344x344, 172x172\n",
            "  Metadata:\n",
            "    RepresentationType=ATHEMATIC\n",
            "    STATISTICS_COVARIANCES=191757.4463237294,289486.8033488048,438969.1080663842,409606.4964051312,332766.5285500442,326844.4015551312,311468.4828043394,525474.0702492129,494642.8913837033\n",
            "    STATISTICS_MAXIMUM=9948\n",
            "    STATISTICS_MEAN=1579.9415750114\n",
            "    STATISTICS_MINIMUM=0\n",
            "    STATISTICS_SKIPFACTORX=1\n",
            "    STATISTICS_SKIPFACTORY=1\n",
            "    STATISTICS_STDDEV=437.90118328651\n",
            "Band 2 Block=128x128 Type=UInt32, ColorInterp=Undefined\n",
            "  Min=426.000 Max=10767.000 \n",
            "  Minimum=426.000, Maximum=10767.000, Mean=1751.798, StdDev=672.831\n",
            "  NoData Value=65536\n",
            "  Overviews: 2745x2745, 1373x1373, 687x687, 344x344, 172x172\n",
            "  Metadata:\n",
            "    RepresentationType=ATHEMATIC\n",
            "    STATISTICS_COVARIANCES=289486.8033488048,452701.0185483092,692324.007454202,653081.2669916917,544864.6285169916,539906.569457097,515087.2476627715,847645.9009489557,788821.2341803173\n",
            "    STATISTICS_MAXIMUM=10767\n",
            "    STATISTICS_MEAN=1751.7975991785\n",
            "    STATISTICS_MINIMUM=426\n",
            "    STATISTICS_SKIPFACTORX=1\n",
            "    STATISTICS_SKIPFACTORY=1\n",
            "    STATISTICS_STDDEV=672.83060167349\n",
            "Band 3 Block=128x128 Type=UInt32, ColorInterp=Undefined\n",
            "  Min=167.000 Max=13023.000 \n",
            "  Minimum=167.000, Maximum=13023.000, Mean=2113.152, StdDev=1040.524\n",
            "  NoData Value=65536\n",
            "  Overviews: 2745x2745, 1373x1373, 687x687, 344x344, 172x172\n",
            "  Metadata:\n",
            "    RepresentationType=ATHEMATIC\n",
            "    STATISTICS_COVARIANCES=438969.1080663842,692324.007454202,1082690.062608108,1017038.176175861,827767.8028458348,816140.3498771852,772558.4155465672,1335624.755375126,1245713.423380057\n",
            "    STATISTICS_MAXIMUM=13023\n",
            "    STATISTICS_MEAN=2113.1519327076\n",
            "    STATISTICS_MINIMUM=167\n",
            "    STATISTICS_SKIPFACTORX=1\n",
            "    STATISTICS_SKIPFACTORY=1\n",
            "    STATISTICS_STDDEV=1040.5239365858\n",
            "Band 4 Block=128x128 Type=UInt32, ColorInterp=Undefined\n",
            "  Min=176.000 Max=8761.000 \n",
            "  Minimum=176.000, Maximum=8761.000, Mean=2260.399, StdDev=992.575\n",
            "  NoData Value=65536\n",
            "  Overviews: 2745x2745, 1373x1373, 687x687, 344x344, 172x172\n",
            "  Metadata:\n",
            "    RepresentationType=ATHEMATIC\n",
            "    STATISTICS_COVARIANCES=409606.4964051312,653081.2669916917,1017038.176175861,985204.8693019068,824073.0580271762,819635.014725945,762434.7887814306,1296198.568618758,1196531.8353635\n",
            "    STATISTICS_MAXIMUM=8761\n",
            "    STATISTICS_MEAN=2260.3985554792\n",
            "    STATISTICS_MINIMUM=176\n",
            "    STATISTICS_SKIPFACTORX=1\n",
            "    STATISTICS_SKIPFACTORY=1\n",
            "    STATISTICS_STDDEV=992.57486836103\n",
            "Band 5 Block=128x128 Type=UInt32, ColorInterp=Undefined\n",
            "  Min=67.000 Max=9222.000 \n",
            "  Minimum=67.000, Maximum=9222.000, Mean=2611.449, StdDev=884.627\n",
            "  NoData Value=65536\n",
            "  Overviews: 2745x2745, 1373x1373, 687x687, 344x344, 172x172\n",
            "  Metadata:\n",
            "    RepresentationType=ATHEMATIC\n",
            "    STATISTICS_COVARIANCES=332766.5285500442,544864.6285169916,827767.8028458348,824073.0580271762,782565.7510235534,804084.3900537835,761073.6559705138,1097581.685187495,977030.8145019421\n",
            "    STATISTICS_MAXIMUM=9222\n",
            "    STATISTICS_MEAN=2611.4490535864\n",
            "    STATISTICS_MINIMUM=67\n",
            "    STATISTICS_SKIPFACTORX=1\n",
            "    STATISTICS_SKIPFACTORY=1\n",
            "    STATISTICS_STDDEV=884.62746454287\n",
            "Band 6 Block=128x128 Type=UInt32, ColorInterp=Undefined\n",
            "  Min=0.000 Max=9675.000 \n",
            "  Minimum=0.000, Maximum=9675.000, Mean=2853.101, StdDev=917.041\n",
            "  NoData Value=65536\n",
            "  Overviews: 2745x2745, 1373x1373, 687x687, 344x344, 172x172\n",
            "  Metadata:\n",
            "    RepresentationType=ATHEMATIC\n",
            "    STATISTICS_COVARIANCES=326844.4015551312,539906.569457097,816140.3498771852,819635.014725945,804084.3900537835,840964.3265068345,797794.7286602734,1101139.650199305,967220.1009429526\n",
            "    STATISTICS_MAXIMUM=9675\n",
            "    STATISTICS_MEAN=2853.1009195723\n",
            "    STATISTICS_MINIMUM=0\n",
            "    STATISTICS_SKIPFACTORX=1\n",
            "    STATISTICS_SKIPFACTORY=1\n",
            "    STATISTICS_STDDEV=917.04107133041\n",
            "Band 7 Block=128x128 Type=UInt32, ColorInterp=Undefined\n",
            "  Min=0.000 Max=14046.000 \n",
            "  Minimum=0.000, Maximum=14046.000, Mean=2733.544, StdDev=896.293\n",
            "  NoData Value=65536\n",
            "  Overviews: 2745x2745, 1373x1373, 687x687, 344x344, 172x172\n",
            "  Metadata:\n",
            "    RepresentationType=ATHEMATIC\n",
            "    STATISTICS_COVARIANCES=311468.4828043394,515087.2476627715,772558.4155465672,762434.7887814306,761073.6559705138,797794.7286602734,803341.3455898092,1031370.014228193,898551.3134534201\n",
            "    STATISTICS_MAXIMUM=14046\n",
            "    STATISTICS_MEAN=2733.5437776252\n",
            "    STATISTICS_MINIMUM=0\n",
            "    STATISTICS_SKIPFACTORX=1\n",
            "    STATISTICS_SKIPFACTORY=1\n",
            "    STATISTICS_STDDEV=896.29311365747\n",
            "Band 8 Block=128x128 Type=UInt32, ColorInterp=Undefined\n",
            "  Min=50.000 Max=14903.000 \n",
            "  Minimum=50.000, Maximum=14903.000, Mean=3118.940, StdDev=1333.335\n",
            "  NoData Value=65536\n",
            "  Overviews: 2745x2745, 1373x1373, 687x687, 344x344, 172x172\n",
            "  Metadata:\n",
            "    RepresentationType=ATHEMATIC\n",
            "    STATISTICS_COVARIANCES=525474.0702492129,847645.9009489557,1335624.755375126,1296198.568618758,1097581.685187495,1101139.650199305,1031370.014228193,1777781.882769985,1627750.909944398\n",
            "    STATISTICS_MAXIMUM=14903\n",
            "    STATISTICS_MEAN=3118.9403880876\n",
            "    STATISTICS_MINIMUM=50\n",
            "    STATISTICS_SKIPFACTORX=1\n",
            "    STATISTICS_SKIPFACTORY=1\n",
            "    STATISTICS_STDDEV=1333.3348727045\n",
            "Band 9 Block=128x128 Type=UInt32, ColorInterp=Undefined\n",
            "  Min=1.000 Max=15953.000 \n",
            "  Minimum=1.000, Maximum=15953.000, Mean=2522.529, StdDev=1235.534\n",
            "  NoData Value=65536\n",
            "  Overviews: 2745x2745, 1373x1373, 687x687, 344x344, 172x172\n",
            "  Metadata:\n",
            "    RepresentationType=ATHEMATIC\n",
            "    STATISTICS_COVARIANCES=494642.8913837033,788821.2341803173,1245713.423380057,1196531.8353635,977030.8145019421,967220.1009429526,898551.3134534201,1627750.909944398,1526545.202082604\n",
            "    STATISTICS_MAXIMUM=15953\n",
            "    STATISTICS_MEAN=2522.5288258499\n",
            "    STATISTICS_MINIMUM=1\n",
            "    STATISTICS_SKIPFACTORX=1\n",
            "    STATISTICS_SKIPFACTORY=1\n",
            "    STATISTICS_STDDEV=1235.5343791585\n",
            "Warning 1: TIFFReadDirectory:Sum of Photometric type-related color channels and ExtraSamples doesn't match SamplesPerPixel. Defining non-color channels as ExtraSamples.\n",
            "Warning 1: TIFFReadDirectory:Sum of Photometric type-related color channels and ExtraSamples doesn't match SamplesPerPixel. Defining non-color channels as ExtraSamples.\n",
            "Warning 1: TIFFReadDirectory:Sum of Photometric type-related color channels and ExtraSamples doesn't match SamplesPerPixel. Defining non-color channels as ExtraSamples.\n",
            "Warning 1: TIFFReadDirectory:Sum of Photometric type-related color channels and ExtraSamples doesn't match SamplesPerPixel. Defining non-color channels as ExtraSamples.\n"
          ]
        }
      ]
    },
    {
      "cell_type": "code",
      "source": [
        "layerdefinition = lyr.GetLayerDefn()\n",
        "feature = ogr.Feature(layerdefinition)"
      ],
      "metadata": {
        "id": "fKbMTYnJM-Xr"
      },
      "execution_count": 12,
      "outputs": []
    },
    {
      "cell_type": "code",
      "source": [
        "yy = feature.GetFieldIndex(\"MLDS\")\n",
        "if yy < 0:\n",
        "    print(\"MLDS field not found, we will create one for you and make all values to 1\")\n",
        "else:\n",
        "    lyr.DeleteField(yy)"
      ],
      "metadata": {
        "colab": {
          "base_uri": "https://localhost:8080/"
        },
        "id": "YRnp01Y-U4S6",
        "outputId": "b8978568-cfd4-4f30-8ab9-512414185caf"
      },
      "execution_count": 13,
      "outputs": [
        {
          "output_type": "stream",
          "name": "stdout",
          "text": [
            "MLDS field not found, we will create one for you and make all values to 1\n"
          ]
        }
      ]
    },
    {
      "cell_type": "code",
      "source": [
        "new_field = ogr.FieldDefn(\"MLDS\", ogr.OFTInteger)\n",
        "lyr.CreateField(new_field)\n",
        "for feature in lyr:\n",
        "        feature.SetField(\"MLDS\", 1)\n",
        "        lyr.SetFeature(feature)\n",
        "        feature = None"
      ],
      "metadata": {
        "id": "8CKGrAQXU64D"
      },
      "execution_count": 14,
      "outputs": []
    },
    {
      "cell_type": "code",
      "source": [
        "drv_tiff = gdal.GetDriverByName(\"GTiff\")\n",
        "chn_ras_ds = drv_tiff.Create(\n",
        "        OUTPUT, ras_ds.RasterXSize, ras_ds.RasterYSize, 1, gdal.GDT_Byte)\n",
        "print(chn_ras_ds)\n",
        "chn_ras_ds.SetGeoTransform(geot)\n",
        "chn_ras_ds.SetProjection(proj)\n",
        "chn_ras_ds.FlushCache()"
      ],
      "metadata": {
        "colab": {
          "base_uri": "https://localhost:8080/"
        },
        "id": "q9DJkYhvVfFr",
        "outputId": "a1cb43bd-e0d2-474b-faa3-31f1790058c4"
      },
      "execution_count": 15,
      "outputs": [
        {
          "output_type": "stream",
          "name": "stdout",
          "text": [
            "<osgeo.gdal.Dataset; proxy of <Swig Object of type 'GDALDatasetShadow *' at 0x7fa28f347c30> >\n"
          ]
        }
      ]
    },
    {
      "cell_type": "code",
      "source": [
        "gdal.RasterizeLayer(chn_ras_ds, [1], lyr, burn_values=[1], options=[\"ATTRIBUTE=MLDS\"])\n",
        "chn_ras_ds = None\n",
        "vec_ds = None"
      ],
      "metadata": {
        "id": "E-iXD_woVkqa"
      },
      "execution_count": 16,
      "outputs": []
    },
    {
      "cell_type": "code",
      "source": [
        "#Second - Splitting raster and rasterized files to small tiles 512×512 \n",
        "#depends on your memory"
      ],
      "metadata": {
        "id": "-y1tBJbOY6TS"
      },
      "execution_count": 17,
      "outputs": []
    },
    {
      "cell_type": "code",
      "source": [
        "ds = gdal.Open(fn_ras)\n",
        "gt = ds.GetGeoTransform()"
      ],
      "metadata": {
        "id": "Yb-Mf38cY8Fc"
      },
      "execution_count": 18,
      "outputs": []
    },
    {
      "cell_type": "code",
      "source": [
        "xmin = gt[0]\n",
        "ymax = gt[3]\n",
        "resx = gt[1]\n",
        "res_y = gt[5]\n",
        "resy = abs(res_y)"
      ],
      "metadata": {
        "id": "BGYkWAQJZCXU"
      },
      "execution_count": 19,
      "outputs": []
    },
    {
      "cell_type": "code",
      "source": [
        "import math\n",
        "import os.path as osp"
      ],
      "metadata": {
        "id": "kEd3MBDwZEg-"
      },
      "execution_count": 20,
      "outputs": []
    },
    {
      "cell_type": "code",
      "source": [
        "needed_out_x = 512\n",
        "needed_out_y = 512"
      ],
      "metadata": {
        "id": "MbxkJQZHZH6y"
      },
      "execution_count": 21,
      "outputs": []
    },
    {
      "cell_type": "code",
      "source": [
        "xnotround = ds.RasterXSize / needed_out_x\n",
        "xround = math.ceil(xnotround)\n",
        "ynotround = ds.RasterYSize / needed_out_y\n",
        "yround = math.ceil(ynotround)\n",
        "\n",
        "print(xnotround)\n",
        "print(xround)\n",
        "print(ynotround)\n",
        "print(yround)"
      ],
      "metadata": {
        "colab": {
          "base_uri": "https://localhost:8080/"
        },
        "id": "HPXiKmcnZK0Q",
        "outputId": "50efbd0b-5730-4e25-d185-1cb333ff5bd9"
      },
      "execution_count": 22,
      "outputs": [
        {
          "output_type": "stream",
          "name": "stdout",
          "text": [
            "10.72265625\n",
            "11\n",
            "10.72265625\n",
            "11\n"
          ]
        }
      ]
    },
    {
      "cell_type": "code",
      "source": [
        "pixtomX = needed_out_x * xround * resx\n",
        "pixtomy = needed_out_y * yround * resy\n",
        "print (pixtomX)\n",
        "print (pixtomy)"
      ],
      "metadata": {
        "colab": {
          "base_uri": "https://localhost:8080/"
        },
        "id": "PyBs4p7vZMhU",
        "outputId": "6c2554de-da2f-4138-d8aa-3e5ed7a719b0"
      },
      "execution_count": 23,
      "outputs": [
        {
          "output_type": "stream",
          "name": "stdout",
          "text": [
            "112640.0\n",
            "112640.0\n"
          ]
        }
      ]
    },
    {
      "cell_type": "code",
      "source": [
        "#size of a single tile\n",
        "xsize = pixtomX / xround\n",
        "ysize = pixtomy / yround\n",
        "\n",
        "print (xsize)\n",
        "print (ysize)"
      ],
      "metadata": {
        "colab": {
          "base_uri": "https://localhost:8080/"
        },
        "id": "dVXzcxzCZT0C",
        "outputId": "7b0e7ec2-1c0a-4e16-abb8-71ea6ddf371f"
      },
      "execution_count": 24,
      "outputs": [
        {
          "output_type": "stream",
          "name": "stdout",
          "text": [
            "10240.0\n",
            "10240.0\n"
          ]
        }
      ]
    },
    {
      "cell_type": "code",
      "source": [
        "#create lists of x and y coordinates\n",
        "xsteps = [xmin + xsize * i for i in range(xround + 1)]\n",
        "ysteps = [ymax - ysize * i for i in range(yround + 1)]\n",
        "xsteps"
      ],
      "metadata": {
        "colab": {
          "base_uri": "https://localhost:8080/"
        },
        "id": "XYdsIf2_ZYis",
        "outputId": "41391a9a-0fc8-48df-d434-1cc28e5f9dba"
      },
      "execution_count": 25,
      "outputs": [
        {
          "output_type": "execute_result",
          "data": {
            "text/plain": [
              "[300000.0,\n",
              " 310240.0,\n",
              " 320480.0,\n",
              " 330720.0,\n",
              " 340960.0,\n",
              " 351200.0,\n",
              " 361440.0,\n",
              " 371680.0,\n",
              " 381920.0,\n",
              " 392160.0,\n",
              " 402400.0,\n",
              " 412640.0]"
            ]
          },
          "metadata": {},
          "execution_count": 25
        }
      ]
    },
    {
      "cell_type": "code",
      "source": [
        " "
      ],
      "metadata": {
        "id": "MeKfTC8DzkCK"
      },
      "execution_count": 25,
      "outputs": []
    },
    {
      "cell_type": "code",
      "source": [
        "#set the output path\n",
        "cdpath = \"DataSet\""
      ],
      "metadata": {
        "id": "tgho_RJ5Zf0y"
      },
      "execution_count": 27,
      "outputs": []
    },
    {
      "cell_type": "code",
      "source": [
        "ds = gdal.Open(fn_ras)\n",
        "gt = ds.GetGeoTransform()\n",
        "c = 0 \n",
        "for i in range(xround):\n",
        "    for j in range(yround):\n",
        "        xmin = xsteps[i]\n",
        "        xmax = xsteps[i + 1]\n",
        "        ymax = ysteps[j]\n",
        "        ymin = ysteps[j + 1]\n",
        "        # gdal translate to subset the input raster\n",
        "        output_path = osp.join(cdpath,(str(\"01\") + \"-\" + str(j) + \"-\" + str(i) + \".\" + \"jpeg\"))\n",
        "        try:\n",
        "            #com_string = \"gdal_translate rgba.tif withmask.tif -srcwin \" + str(j)+ \", \" + str(i) + \", \" + str(512) + \", \" + str(512) + \" \" + str(\"drive/MyDrive/graduation-project/output/\") + str(\"output2021.tif\") + \" \" + str(\"Dataset/\") + str(\"01\") + str(i) + \"_\" + str(j) + \".jpeg\"\n",
        "            com_string = \"gdal_translate -co TILED=YES -co COMPRESS=JPEG -co JPEG_QUALITY=100 -a_nodata none -co INTERLEAVE=BAND -scale -ot Byte\" + \" \" + str(\"drive/MyDrive/graduation-project/output/\") + str(\"output2021.tif\") + \" \" +str(\"Dataset/\") + str(\"01\") + str(i) + \"_\" + str(j) + \".jpeg\"\n",
        "            os.system(com_string)\n",
        "            # tt = gdal.Translate(output_path, \n",
        "            #         ds, \n",
        "            #         projWin=(abs(xmin), abs(ymax), abs(xmax), abs(ymin)),\n",
        "            #         xRes=resx, \n",
        "            #         yRes=-resy, \n",
        "            #         outputType=gdal.GDT_Byte, \n",
        "            #         format=\"JPEG\")\n",
        "        except:\n",
        "            print(\"Unexpected error color:\", sys.exc_info(), gdal.GetLastErrorMsg())\n"
      ],
      "metadata": {
        "id": "W6rDpneMaFM4"
      },
      "execution_count": null,
      "outputs": []
    },
    {
      "cell_type": "code",
      "source": [
        "os.listdir(\"Dataset\")"
      ],
      "metadata": {
        "colab": {
          "base_uri": "https://localhost:8080/"
        },
        "id": "x8MxMRZB8SkG",
        "outputId": "11ce323a-5a13-4e0e-c342-299f22431927"
      },
      "execution_count": 42,
      "outputs": [
        {
          "output_type": "execute_result",
          "data": {
            "text/plain": [
              "['018_3.jpeg',\n",
              " '015_9.jpeg',\n",
              " '0110_6.jpeg',\n",
              " '012_0.jpeg',\n",
              " '014_0.jpeg',\n",
              " '013_1.jpeg',\n",
              " '012_3.jpeg',\n",
              " '017_6.jpeg',\n",
              " '019_5.jpeg',\n",
              " '013_3.jpeg',\n",
              " '013_10.jpeg',\n",
              " '010_2.jpeg',\n",
              " '019_4.jpeg',\n",
              " '011_10.jpeg',\n",
              " '013_2.jpeg',\n",
              " '011_5.jpeg',\n",
              " '012_2.jpeg',\n",
              " '010_7.jpeg',\n",
              " '015_10.jpeg',\n",
              " '019_10.jpeg',\n",
              " '012_1.jpeg',\n",
              " '0110_4.jpeg',\n",
              " '013_7.jpeg',\n",
              " '012_7.jpeg',\n",
              " '011_8.jpeg',\n",
              " '016_7.jpeg',\n",
              " '012_9.jpeg',\n",
              " '010_0.jpeg',\n",
              " '016_6.jpeg',\n",
              " '013_6.jpeg',\n",
              " '017_7.jpeg',\n",
              " '011_7.jpeg',\n",
              " '010_6.jpeg',\n",
              " '0110_10.jpeg',\n",
              " '016_4.jpeg',\n",
              " '014_9.jpeg',\n",
              " '0110_0.jpeg',\n",
              " '014_8.jpeg',\n",
              " '016_0.jpeg',\n",
              " '018_10.jpeg',\n",
              " '018_8.jpeg',\n",
              " '014_2.jpeg',\n",
              " '010_9.jpeg',\n",
              " '014_4.jpeg',\n",
              " '015_7.jpeg',\n",
              " '018_7.jpeg',\n",
              " '019_0.jpeg',\n",
              " '013_0.jpeg',\n",
              " '012_4.jpeg',\n",
              " '016_5.jpeg',\n",
              " '015_1.jpeg',\n",
              " '013_5.jpeg',\n",
              " '016_1.jpeg',\n",
              " '010_3.jpeg',\n",
              " '014_1.jpeg',\n",
              " '0110_9.jpeg',\n",
              " '010_4.jpeg',\n",
              " '015_2.jpeg',\n",
              " '011_1.jpeg',\n",
              " '017_9.jpeg',\n",
              " '016_8.jpeg',\n",
              " '017_2.jpeg',\n",
              " '016_2.jpeg',\n",
              " '017_8.jpeg',\n",
              " '0110_7.jpeg',\n",
              " '015_3.jpeg',\n",
              " '011_2.jpeg',\n",
              " '012_6.jpeg',\n",
              " '013_8.jpeg',\n",
              " '016_10.jpeg',\n",
              " '017_0.jpeg',\n",
              " '018_4.jpeg',\n",
              " '011_9.jpeg',\n",
              " '011_4.jpeg',\n",
              " '018_2.jpeg',\n",
              " '0110_2.jpeg',\n",
              " '012_5.jpeg',\n",
              " '018_9.jpeg',\n",
              " '013_9.jpeg',\n",
              " '019_3.jpeg',\n",
              " '014_7.jpeg',\n",
              " '013_4.jpeg',\n",
              " '019_2.jpeg',\n",
              " '019_1.jpeg',\n",
              " '017_3.jpeg',\n",
              " '011_0.jpeg',\n",
              " '014_10.jpeg',\n",
              " '016_9.jpeg',\n",
              " '0110_5.jpeg',\n",
              " '010_5.jpeg',\n",
              " '012_8.jpeg',\n",
              " '018_5.jpeg',\n",
              " '010_1.jpeg',\n",
              " '0110_8.jpeg',\n",
              " '011_6.jpeg',\n",
              " '014_5.jpeg',\n",
              " '012_10.jpeg',\n",
              " '019_7.jpeg',\n",
              " '015_4.jpeg',\n",
              " '015_5.jpeg',\n",
              " '017_1.jpeg',\n",
              " '019_8.jpeg',\n",
              " '017_4.jpeg',\n",
              " '010_8.jpeg',\n",
              " '015_6.jpeg',\n",
              " '016_3.jpeg',\n",
              " '019_6.jpeg',\n",
              " '014_3.jpeg',\n",
              " '0110_1.jpeg',\n",
              " '018_0.jpeg',\n",
              " '017_5.jpeg',\n",
              " '015_0.jpeg',\n",
              " '011_3.jpeg',\n",
              " '018_1.jpeg',\n",
              " '010_10.jpeg',\n",
              " '017_10.jpeg',\n",
              " '019_9.jpeg',\n",
              " '0110_3.jpeg',\n",
              " '014_6.jpeg',\n",
              " '015_8.jpeg',\n",
              " '018_6.jpeg']"
            ]
          },
          "metadata": {},
          "execution_count": 42
        }
      ]
    },
    {
      "cell_type": "code",
      "source": [
        "%pylab inline\n",
        "import matplotlib.pyplot as plt\n",
        "import matplotlib.image as mpimg\n",
        "img = mpimg.imread('Dataset/018_0.jpeg')\n",
        "imgplot = plt.imshow(img)\n",
        "plt.show()"
      ],
      "metadata": {
        "colab": {
          "base_uri": "https://localhost:8080/",
          "height": 398
        },
        "id": "im8rFBe_8fpv",
        "outputId": "b5a038af-40f6-45c3-f726-418fc7de243b"
      },
      "execution_count": 43,
      "outputs": [
        {
          "output_type": "stream",
          "name": "stdout",
          "text": [
            "Populating the interactive namespace from numpy and matplotlib\n"
          ]
        },
        {
          "output_type": "error",
          "ename": "UnidentifiedImageError",
          "evalue": "ignored",
          "traceback": [
            "\u001b[0;31m---------------------------------------------------------------------------\u001b[0m",
            "\u001b[0;31mUnidentifiedImageError\u001b[0m                    Traceback (most recent call last)",
            "\u001b[0;32m<ipython-input-43-24abb661d910>\u001b[0m in \u001b[0;36m<module>\u001b[0;34m()\u001b[0m\n\u001b[1;32m      2\u001b[0m \u001b[0;32mimport\u001b[0m \u001b[0mmatplotlib\u001b[0m\u001b[0;34m.\u001b[0m\u001b[0mpyplot\u001b[0m \u001b[0;32mas\u001b[0m \u001b[0mplt\u001b[0m\u001b[0;34m\u001b[0m\u001b[0;34m\u001b[0m\u001b[0m\n\u001b[1;32m      3\u001b[0m \u001b[0;32mimport\u001b[0m \u001b[0mmatplotlib\u001b[0m\u001b[0;34m.\u001b[0m\u001b[0mimage\u001b[0m \u001b[0;32mas\u001b[0m \u001b[0mmpimg\u001b[0m\u001b[0;34m\u001b[0m\u001b[0;34m\u001b[0m\u001b[0m\n\u001b[0;32m----> 4\u001b[0;31m \u001b[0mimg\u001b[0m \u001b[0;34m=\u001b[0m \u001b[0mmpimg\u001b[0m\u001b[0;34m.\u001b[0m\u001b[0mimread\u001b[0m\u001b[0;34m(\u001b[0m\u001b[0;34m'Dataset/018_0.jpeg'\u001b[0m\u001b[0;34m)\u001b[0m\u001b[0;34m\u001b[0m\u001b[0;34m\u001b[0m\u001b[0m\n\u001b[0m\u001b[1;32m      5\u001b[0m \u001b[0mimgplot\u001b[0m \u001b[0;34m=\u001b[0m \u001b[0mplt\u001b[0m\u001b[0;34m.\u001b[0m\u001b[0mimshow\u001b[0m\u001b[0;34m(\u001b[0m\u001b[0mimg\u001b[0m\u001b[0;34m)\u001b[0m\u001b[0;34m\u001b[0m\u001b[0;34m\u001b[0m\u001b[0m\n\u001b[1;32m      6\u001b[0m \u001b[0mplt\u001b[0m\u001b[0;34m.\u001b[0m\u001b[0mshow\u001b[0m\u001b[0;34m(\u001b[0m\u001b[0;34m)\u001b[0m\u001b[0;34m\u001b[0m\u001b[0;34m\u001b[0m\u001b[0m\n",
            "\u001b[0;32m/usr/local/lib/python3.7/dist-packages/matplotlib/image.py\u001b[0m in \u001b[0;36mimread\u001b[0;34m(fname, format)\u001b[0m\n\u001b[1;32m   1462\u001b[0m             raise ValueError('Only know how to handle PNG; with Pillow '\n\u001b[1;32m   1463\u001b[0m                              'installed, Matplotlib can handle more images')\n\u001b[0;32m-> 1464\u001b[0;31m         \u001b[0;32mwith\u001b[0m \u001b[0mImage\u001b[0m\u001b[0;34m.\u001b[0m\u001b[0mopen\u001b[0m\u001b[0;34m(\u001b[0m\u001b[0mfname\u001b[0m\u001b[0;34m)\u001b[0m \u001b[0;32mas\u001b[0m \u001b[0mimage\u001b[0m\u001b[0;34m:\u001b[0m\u001b[0;34m\u001b[0m\u001b[0;34m\u001b[0m\u001b[0m\n\u001b[0m\u001b[1;32m   1465\u001b[0m             \u001b[0;32mreturn\u001b[0m \u001b[0mpil_to_array\u001b[0m\u001b[0;34m(\u001b[0m\u001b[0mimage\u001b[0m\u001b[0;34m)\u001b[0m\u001b[0;34m\u001b[0m\u001b[0;34m\u001b[0m\u001b[0m\n\u001b[1;32m   1466\u001b[0m     \u001b[0;32mfrom\u001b[0m \u001b[0mmatplotlib\u001b[0m \u001b[0;32mimport\u001b[0m \u001b[0m_png\u001b[0m\u001b[0;34m\u001b[0m\u001b[0;34m\u001b[0m\u001b[0m\n",
            "\u001b[0;32m/usr/local/lib/python3.7/dist-packages/PIL/Image.py\u001b[0m in \u001b[0;36mopen\u001b[0;34m(fp, mode)\u001b[0m\n\u001b[1;32m   2894\u001b[0m         \u001b[0mwarnings\u001b[0m\u001b[0;34m.\u001b[0m\u001b[0mwarn\u001b[0m\u001b[0;34m(\u001b[0m\u001b[0mmessage\u001b[0m\u001b[0;34m)\u001b[0m\u001b[0;34m\u001b[0m\u001b[0;34m\u001b[0m\u001b[0m\n\u001b[1;32m   2895\u001b[0m     raise UnidentifiedImageError(\n\u001b[0;32m-> 2896\u001b[0;31m         \u001b[0;34m\"cannot identify image file %r\"\u001b[0m \u001b[0;34m%\u001b[0m \u001b[0;34m(\u001b[0m\u001b[0mfilename\u001b[0m \u001b[0;32mif\u001b[0m \u001b[0mfilename\u001b[0m \u001b[0;32melse\u001b[0m \u001b[0mfp\u001b[0m\u001b[0;34m)\u001b[0m\u001b[0;34m\u001b[0m\u001b[0;34m\u001b[0m\u001b[0m\n\u001b[0m\u001b[1;32m   2897\u001b[0m     )\n\u001b[1;32m   2898\u001b[0m \u001b[0;34m\u001b[0m\u001b[0m\n",
            "\u001b[0;31mUnidentifiedImageError\u001b[0m: cannot identify image file 'Dataset/018_0.jpeg'"
          ]
        }
      ]
    },
    {
      "cell_type": "code",
      "source": [
        ""
      ],
      "metadata": {
        "id": "Ad66ufmI9OgD"
      },
      "execution_count": null,
      "outputs": []
    }
  ]
}